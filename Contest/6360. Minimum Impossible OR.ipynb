{
 "cells": [
  {
   "attachments": {},
   "cell_type": "markdown",
   "metadata": {},
   "source": [
    "# 6360. Minimum Impossible OR\n",
    "You are given a 0-indexed integer array nums.\n",
    "\n",
    "We say that an integer x is expressible from nums if there exist some integers 0 <= index1 < index2 < ... < indexk < nums.length for which nums[index1] | nums[index2] | ... | nums[indexk] = x. In other words, an integer is expressible if it can be written as the bitwise OR of some subsequence of nums.\n",
    "\n",
    "Return the minimum positive non-zero integer that is not expressible from nums.\n",
    "\n",
    "Example 1:\n",
    "\n",
    "Input: nums = [2,1]\n",
    "Output: 4\n",
    "Explanation: 1 and 2 are already present in the array. We know that 3 is expressible, since nums[0] | nums[1] = 2 | 1 = 3. Since 4 is not expressible, we return 4.\n",
    "\n",
    "Example 2:\n",
    "\n",
    "Input: nums = [5,3,2]\n",
    "Output: 1\n",
    "Explanation: We can show that 1 is the smallest number that is not expressible."
   ]
  },
  {
   "cell_type": "code",
   "execution_count": null,
   "metadata": {},
   "outputs": [],
   "source": []
  }
 ],
 "metadata": {
  "kernelspec": {
   "display_name": "Python 3",
   "language": "python",
   "name": "python3"
  },
  "language_info": {
   "name": "python",
   "version": "3.11.0"
  },
  "orig_nbformat": 4,
  "vscode": {
   "interpreter": {
    "hash": "ebfc0a8d552866b0d59eba665220a57de3bc06f3ac643b8bef38dd8f66781fdd"
   }
  }
 },
 "nbformat": 4,
 "nbformat_minor": 2
}
