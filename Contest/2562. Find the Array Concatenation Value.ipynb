{
 "cells": [
  {
   "attachments": {},
   "cell_type": "markdown",
   "metadata": {},
   "source": [
    "# 2562. Find the Array Concatenation Value\n",
    "\n",
    "You are given a 0-indexed integer array nums.\n",
    "\n",
    "The concatenation of two numbers is the number formed by concatenating their numerals.\n",
    "\n",
    "For example, the concatenation of 15, 49 is 1549.\n",
    "The concatenation value of nums is initially equal to 0. Perform this operation until nums becomes empty:\n",
    "\n",
    "If there exists more than one number in nums, pick the first element and last element in nums respectively and add the value of their concatenation to the concatenation value of nums, then delete the first and last element from nums.\n",
    "If one element exists, add its value to the concatenation value of nums, then delete it.\n",
    "Return the concatenation value of the nums.\n",
    "\n",
    "Example 1:\n",
    "\n",
    "Input: nums = [7,52,2,4]\n",
    "Output: 596\n",
    "Explanation: Before performing any operation, nums is [7,52,2,4] and concatenation value is 0.\n",
    " - In the first operation:\n",
    "We pick the first element, 7, and the last element, 4.\n",
    "Their concatenation is 74, and we add it to the concatenation value, so it becomes equal to 74.\n",
    "Then we delete them from nums, so nums becomes equal to [52,2].\n",
    " - In the second operation:\n",
    "We pick the first element, 52, and the last element, 2.\n",
    "Their concatenation is 522, and we add it to the concatenation value, so it becomes equal to 596.\n",
    "Then we delete them from the nums, so nums becomes empty.\n",
    "Since the concatenation value is 596 so the answer is 596.\n",
    "Example 2:\n",
    "\n",
    "Input: nums = [5,14,13,8,12]\n",
    "Output: 673\n",
    "Explanation: Before performing any operation, nums is [5,14,13,8,12] and concatenation value is 0.\n",
    " - In the first operation:\n",
    "We pick the first element, 5, and the last element, 12.\n",
    "Their concatenation is 512, and we add it to the concatenation value, so it becomes equal to 512.\n",
    "Then we delete them from the nums, so nums becomes equal to [14,13,8].\n",
    " - In the second operation:\n",
    "We pick the first element, 14, and the last element, 8.\n",
    "Their concatenation is 148, and we add it to the concatenation value, so it becomes equal to 660.\n",
    "Then we delete them from the nums, so nums becomes equal to [13].\n",
    " - In the third operation:\n",
    "nums has only one element, so we pick 13 and add it to the concatenation value, so it becomes equal to 673.\n",
    "Then we delete it from nums, so nums become empty.\n",
    "Since the concatenation value is 673 so the answer is 673."
   ]
  },
  {
   "cell_type": "code",
   "execution_count": 45,
   "metadata": {},
   "outputs": [
    {
     "name": "stdout",
     "output_type": "stream",
     "text": [
      "74\n",
      "0 3\n",
      "596\n",
      "1 2\n",
      "Y\n"
     ]
    },
    {
     "data": {
      "text/plain": [
       "596"
      ]
     },
     "execution_count": 45,
     "metadata": {},
     "output_type": "execute_result"
    }
   ],
   "source": [
    "from typing import List\n",
    "def findTheArrayConcVal(nums: List[int]) -> int:\n",
    "    concate_value=0\n",
    "    j=int(len(nums)-1)\n",
    "    for i in range(len(nums)):\n",
    "        if i>j:\n",
    "            break\n",
    "        if i!=j:\n",
    "            concate_value+=int(str(nums[i])+str(nums[j]))\n",
    "        elif i==j:\n",
    "            concate_value+=int(str(nums[i]))     \n",
    "        j-=1\n",
    "    return concate_value\n",
    "    \n",
    "\n",
    "findTheArrayConcVal([7,52,2,4])"
   ]
  }
 ],
 "metadata": {
  "kernelspec": {
   "display_name": "Python 3",
   "language": "python",
   "name": "python3"
  },
  "language_info": {
   "codemirror_mode": {
    "name": "ipython",
    "version": 3
   },
   "file_extension": ".py",
   "mimetype": "text/x-python",
   "name": "python",
   "nbconvert_exporter": "python",
   "pygments_lexer": "ipython3",
   "version": "3.11.0"
  },
  "orig_nbformat": 4,
  "vscode": {
   "interpreter": {
    "hash": "ebfc0a8d552866b0d59eba665220a57de3bc06f3ac643b8bef38dd8f66781fdd"
   }
  }
 },
 "nbformat": 4,
 "nbformat_minor": 2
}
