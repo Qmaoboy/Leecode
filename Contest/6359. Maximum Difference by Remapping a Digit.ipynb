{
 "cells": [
  {
   "cell_type": "code",
   "execution_count": 65,
   "metadata": {},
   "outputs": [
    {
     "name": "stdout",
     "output_type": "stream",
     "text": [
      "{0: '9', 1: '0'}\n",
      "9 0\n",
      "2\n",
      "['9', '9']\n",
      "['0', '0']\n"
     ]
    },
    {
     "data": {
      "text/plain": [
       "99"
      ]
     },
     "execution_count": 65,
     "metadata": {},
     "output_type": "execute_result"
    }
   ],
   "source": [
    "\n",
    "def minMaxDifference(num: int) -> int:\n",
    "        digit={}\n",
    "        highdigit=0\n",
    "        lowdigit=0\n",
    "        maxvalue_digit=[]\n",
    "        minvalue_digit=[]\n",
    "        maxvalue=0\n",
    "        minvalue=0\n",
    "        stringnum=str(num)\n",
    "        for idx,item in enumerate(stringnum):\n",
    "            digit[idx]=item\n",
    "        \n",
    "        for i in range(len(stringnum)):\n",
    "            if digit[i]!=\"9\":\n",
    "                highdigit=digit[i]\n",
    "                break\n",
    "        lowdigit=digit[0]\n",
    "        \n",
    "        print(digit)\n",
    "        print(lowdigit,highdigit)\n",
    "        print(len(stringnum))\n",
    "        for i in range(len(stringnum)):\n",
    "            if digit[i]==highdigit:\n",
    "                maxvalue_digit.append(\"9\")\n",
    "            else:\n",
    "                maxvalue_digit.append(digit[i])\n",
    "            if digit[i]==lowdigit:\n",
    "                minvalue_digit.append(\"0\")\n",
    "            else:\n",
    "                minvalue_digit.append(digit[i])\n",
    "        \n",
    "        print(maxvalue_digit)\n",
    "        print(minvalue_digit)\n",
    "        maxvalue_digit.reverse()  \n",
    "        minvalue_digit.reverse()\n",
    "        \n",
    "        for i in range(len(maxvalue_digit)):\n",
    "            maxvalue+=(10**i)*int(maxvalue_digit[i])\n",
    "        for i in range(len(minvalue_digit)):    \n",
    "            minvalue+=(10**i)*int(minvalue_digit[i])\n",
    "        return maxvalue-minvalue\n",
    "            \n",
    "minMaxDifference(90)"
   ]
  },
  {
   "attachments": {},
   "cell_type": "markdown",
   "metadata": {},
   "source": [
    "# 2566. Maximum Difference by Remapping a Digit\n",
    "\n",
    "You are given an integer num. You know that Danny Mittal will sneakily remap one of the 10 possible digits (0 to 9) to another digit.\n",
    "\n",
    "Return the difference between the maximum and minimum values Danny can make by remapping exactly one digit in num.\n",
    "\n",
    "Notes:\n",
    "\n",
    "When Danny remaps a digit d1 to another digit d2, Danny replaces all occurrences of d1 in num with d2.\n",
    "Danny can remap a digit to itself, in which case num does not change.\n",
    "Danny can remap different digits for obtaining minimum and maximum values respectively.\n",
    "The resulting number after remapping can contain leading zeroes.\n",
    "We mentioned \"Danny Mittal\" to congratulate him on being in the top 10 in Weekly Contest 326.\n",
    "\n",
    "Example 1:\n",
    "\n",
    "Input: num = 11891\n",
    "Output: 99009\n",
    "Explanation: \n",
    "To achieve the maximum value, Danny can remap the digit 1 to the digit 9 to yield 99899.\n",
    "To achieve the minimum value, Danny can remap the digit 1 to the digit 0, yielding 890.\n",
    "The difference between these two numbers is 99009.\n",
    "Example 2:\n",
    "\n",
    "Input: num = 90\n",
    "Output: 99\n",
    "Explanation:\n",
    "The maximum value that can be returned by the function is 99 (if 0 is replaced by 9) and the minimum value that can be returned by the function is 0 (if 9 is replaced by 0).\n",
    "Thus, we return 99."
   ]
  }
 ],
 "metadata": {
  "kernelspec": {
   "display_name": "Python 3",
   "language": "python",
   "name": "python3"
  },
  "language_info": {
   "codemirror_mode": {
    "name": "ipython",
    "version": 3
   },
   "file_extension": ".py",
   "mimetype": "text/x-python",
   "name": "python",
   "nbconvert_exporter": "python",
   "pygments_lexer": "ipython3",
   "version": "3.11.0"
  },
  "orig_nbformat": 4,
  "vscode": {
   "interpreter": {
    "hash": "ebfc0a8d552866b0d59eba665220a57de3bc06f3ac643b8bef38dd8f66781fdd"
   }
  }
 },
 "nbformat": 4,
 "nbformat_minor": 2
}
