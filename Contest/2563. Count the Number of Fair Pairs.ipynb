{
 "cells": [
  {
   "attachments": {},
   "cell_type": "markdown",
   "metadata": {},
   "source": [
    "# 2563. Count the Number of Fair Pairs\n",
    "Given a 0-indexed integer array nums of size n and two integers lower and upper, return the number of fair pairs.\n",
    "\n",
    "A pair (i, j) is fair if:  \n",
    "\n",
    "0 <= i < j < n, and  \n",
    "lower <= nums[i] + nums[j] <= upper  \n",
    "Example 1:  \n",
    "\n",
    "Input: nums = [0,1,7,4,4,5], lower = 3, upper = 6  \n",
    "Output: 6  \n",
    "Explanation: There are 6 fair pairs: (0,3), (0,4), (0,5), (1,3), (1,4), and (1,5).  \n",
    "Example 2:  \n",
    "\n",
    "Input: nums = [1,7,9,2,5], lower = 11, upper = 11  \n",
    "Output: 1  \n",
    "Explanation: There is a single fair pair: (2,3).  "
   ]
  },
  {
   "cell_type": "code",
   "execution_count": 32,
   "metadata": {},
   "outputs": [
    {
     "name": "stdout",
     "output_type": "stream",
     "text": [
      "[-3, -2, 4, 1, 1, 2] [6, 5, -1, 2, 2, 1]\n"
     ]
    },
    {
     "data": {
      "text/plain": [
       "0"
      ]
     },
     "execution_count": 32,
     "metadata": {},
     "output_type": "execute_result"
    }
   ],
   "source": [
    "from typing import List\n",
    "def yy(x,lower,upper):\n",
    "    x=x-upper+lower\n",
    "    return x\n",
    "    \n",
    "def countFairPairs(nums: List[int], lower: int, upper: int) -> int:\n",
    "    pairs=0\n",
    "    lowerlist =[i-lower for i in nums]\n",
    "    upperlist=[upper-i for i in nums]\n",
    "    print(lowerlist,upperlist)\n",
    "    return pairs\n",
    "                \n",
    "countFairPairs([0,1,7,4,4,5],3,6)"
   ]
  }
 ],
 "metadata": {
  "kernelspec": {
   "display_name": "Python 3",
   "language": "python",
   "name": "python3"
  },
  "language_info": {
   "codemirror_mode": {
    "name": "ipython",
    "version": 3
   },
   "file_extension": ".py",
   "mimetype": "text/x-python",
   "name": "python",
   "nbconvert_exporter": "python",
   "pygments_lexer": "ipython3",
   "version": "3.11.0"
  },
  "orig_nbformat": 4,
  "vscode": {
   "interpreter": {
    "hash": "ebfc0a8d552866b0d59eba665220a57de3bc06f3ac643b8bef38dd8f66781fdd"
   }
  }
 },
 "nbformat": 4,
 "nbformat_minor": 2
}
