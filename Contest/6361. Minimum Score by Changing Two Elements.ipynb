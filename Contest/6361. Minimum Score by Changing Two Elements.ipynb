{
 "cells": [
  {
   "cell_type": "code",
   "execution_count": 89,
   "metadata": {},
   "outputs": [
    {
     "data": {
      "text/plain": [
       "24"
      ]
     },
     "execution_count": 89,
     "metadata": {},
     "output_type": "execute_result"
    }
   ],
   "source": [
    "from typing import List\n",
    "\n",
    "def minimizeSum(nums: List[int]) -> int:\n",
    "    if len(nums)==2:\n",
    "        return 0\n",
    "    if len(nums)==3:\n",
    "        return 0\n",
    "    nums.sort()\n",
    "    return min(abs(nums[0]-nums[len(nums)-3]),abs(nums[2]-nums[len(nums)-1]),abs(nums[1]-nums[len(nums)-2]))\n",
    "    # absresult=list(set(absresult))\n",
    "    # absresult.sort()\n",
    "        \n",
    "    # return sornum[len(sornum)-1]-sornum[2]\n",
    "\n",
    "n=[1,4,7,8,5]\n",
    "minimizeSum(n)\n",
    "minimizeSum([59,27,9,81,33])"
   ]
  },
  {
   "attachments": {},
   "cell_type": "markdown",
   "metadata": {},
   "source": [
    "# 2567. Minimum Score by Changing Two Elements\n",
    "\n",
    "You are given a 0-indexed integer array nums.\n",
    "\n",
    "The low score of nums is the minimum value of |nums[i] - nums[j]| over all 0 <= i < j < nums.length.\n",
    "The high score of nums is the maximum value of |nums[i] - nums[j]| over all 0 <= i < j < nums.length.\n",
    "The score of nums is the sum of the high and low scores of nums.\n",
    "To minimize the score of nums, we can change the value of at most two elements of nums.\n",
    "\n",
    "Return the minimum possible score after changing the value of at most two elements of nums.\n",
    "\n",
    "Note that |x| denotes the absolute value of x.\n",
    "\n",
    "Example 1:\n",
    "\n",
    "Input: nums = [1,4,3]\n",
    "Output: 0\n",
    "Explanation: Change value of nums[1] and nums[2] to 1 so that nums becomes [1,1,1]. Now, the value of |nums[i] - nums[j]| is always equal to 0, so we return 0 + 0 = 0.\n",
    "Example 2:\n",
    "\n",
    "Input: nums = [1,4,7,8,5]\n",
    "Output: 3\n",
    "Explanation: Change nums[0] and nums[1] to be 6. Now nums becomes [6,6,7,8,5].\n",
    "Our low score is achieved when i = 0 and j = 1, in which case |nums[i] - nums[j]| = |6 - 6| = 0.\n",
    "Our high score is achieved when i = 3 and j = 4, in which case |nums[i] - nums[j]| = |8 - 5| = 3.\n",
    "The sum of our high and low score is 3, which we can prove to be minimal.\n",
    " \n",
    " "
   ]
  }
 ],
 "metadata": {
  "kernelspec": {
   "display_name": "Python 3",
   "language": "python",
   "name": "python3"
  },
  "language_info": {
   "codemirror_mode": {
    "name": "ipython",
    "version": 3
   },
   "file_extension": ".py",
   "mimetype": "text/x-python",
   "name": "python",
   "nbconvert_exporter": "python",
   "pygments_lexer": "ipython3",
   "version": "3.11.0"
  },
  "orig_nbformat": 4,
  "vscode": {
   "interpreter": {
    "hash": "ebfc0a8d552866b0d59eba665220a57de3bc06f3ac643b8bef38dd8f66781fdd"
   }
  }
 },
 "nbformat": 4,
 "nbformat_minor": 2
}
