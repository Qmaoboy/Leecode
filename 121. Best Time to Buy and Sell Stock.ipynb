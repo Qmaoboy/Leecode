{
 "cells": [
  {
   "attachments": {},
   "cell_type": "markdown",
   "metadata": {},
   "source": [
    "# 121. Best Time to Buy and Sell Stock\n",
    "You are given an array prices where prices[i] is the price of a given stock on the ith day.\n",
    "\n",
    "You want to maximize your profit by choosing a single day to buy one stock and choosing a different day in the future to sell that stock.\n",
    "\n",
    "Return the maximum profit you can achieve from this transaction. If you cannot achieve any profit, return 0.\n",
    "Example 1:\n",
    "\n",
    "Input: prices = [7,1,5,3,6,4]\n",
    "Output: 5\n",
    "Explanation: Buy on day 2 (price = 1) and sell on day 5 (price = 6), profit = 6-1 = 5.\n",
    "Note that buying on day 2 and selling on day 1 is not allowed because you must buy before you sell.\n",
    "Example 2:\n",
    "\n",
    "Input: prices = [7,6,4,3,1]\n",
    "Output: 0\n",
    "Explanation: In this case, no transactions are done and the max profit = 0."
   ]
  },
  {
   "cell_type": "code",
   "execution_count": 1,
   "metadata": {},
   "outputs": [
    {
     "name": "stdout",
     "output_type": "stream",
     "text": [
      "pass\n"
     ]
    }
   ],
   "source": [
    "from typing import List\n",
    "import testcode\n",
    "\n",
    "testsample=[[7,1,5,3,6,4],[7,6,4,3,1],[1,2],[2,1,2,0,1]]\n",
    "ans=[5,0,1,1]\n",
    "print(\"pass\")"
   ]
  },
  {
   "cell_type": "code",
   "execution_count": 21,
   "metadata": {},
   "outputs": [
    {
     "name": "stderr",
     "output_type": "stream",
     "text": [
      "100%|██████████| 4/4 [00:00<00:00, 19.69it/s]"
     ]
    },
    {
     "name": "stdout",
     "output_type": "stream",
     "text": [
      "Test NO.0 Pass, 執行時間: 0.05220842361450195\n",
      "Test NO.1 Pass, 執行時間: 0.10287666320800781\n",
      "Test NO.2 Pass, 執行時間: 0.1537952423095703\n",
      "Test NO.3 Pass, 執行時間: 0.20416545867919922\n"
     ]
    },
    {
     "name": "stderr",
     "output_type": "stream",
     "text": [
      "\n"
     ]
    }
   ],
   "source": [
    "## solution1: out of testime limit\n",
    "def maxProfit(prices: List[int]) -> int:\n",
    "        maxv=0\n",
    "        for i in range(len(prices)):\n",
    "            rest=sorted(prices[i:len(prices)],reverse=True)[0]\n",
    "            if rest -prices[i] >maxv:\n",
    "                maxv=rest-prices[i]\n",
    "        return maxv\n",
    "testcode.testunit(testsample,ans,maxProfit)"
   ]
  },
  {
   "cell_type": "code",
   "execution_count": 2,
   "metadata": {},
   "outputs": [
    {
     "name": "stderr",
     "output_type": "stream",
     "text": [
      "100%|██████████| 4/4 [00:00<00:00, 19.54it/s]"
     ]
    },
    {
     "name": "stdout",
     "output_type": "stream",
     "text": [
      "Test NO.0 Pass, 執行時間: 0.06309270858764648\n",
      "Test NO.1 Pass, 執行時間: 0.11405730247497559\n",
      "Test NO.2 Pass, 執行時間: 0.1663985252380371\n",
      "Test NO.3 Pass, 執行時間: 0.2166759967803955\n"
     ]
    },
    {
     "name": "stderr",
     "output_type": "stream",
     "text": [
      "\n"
     ]
    }
   ],
   "source": [
    "from tqdm import tqdm\n",
    "import time\n",
    "class Solution:\n",
    "    def maxProfit(self,prices: List[int]) -> int:\n",
    "        min_price=9999\n",
    "        max_profit=0\n",
    "        for i in range(len(prices)):\n",
    "            max_profit=max(prices[i]- min_price,max_profit)\n",
    "            min_price=min(min_price,prices[i])\n",
    "        return max_profit\n",
    "\n",
    "testcode.testunit(testsample,ans,Solution().maxProfit)"
   ]
  }
 ],
 "metadata": {
  "kernelspec": {
   "display_name": "Python 3",
   "language": "python",
   "name": "python3"
  },
  "language_info": {
   "codemirror_mode": {
    "name": "ipython",
    "version": 3
   },
   "file_extension": ".py",
   "mimetype": "text/x-python",
   "name": "python",
   "nbconvert_exporter": "python",
   "pygments_lexer": "ipython3",
   "version": "3.11.1"
  },
  "orig_nbformat": 4,
  "vscode": {
   "interpreter": {
    "hash": "368d14e910e169b6fd31268dc3391d033f0490bff72fccdc9d1ff1c32ee387fa"
   }
  }
 },
 "nbformat": 4,
 "nbformat_minor": 2
}
