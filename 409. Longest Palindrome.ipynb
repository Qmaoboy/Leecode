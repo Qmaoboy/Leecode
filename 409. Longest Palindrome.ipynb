{
 "cells": [
  {
   "attachments": {},
   "cell_type": "markdown",
   "metadata": {},
   "source": [
    "# 409. Longest Palindromez\n",
    "Given a string s which consists of lowercase or uppercase letters, return the length of the longest palindrome that can be built with those letters.\n",
    "\n",
    "Letters are case sensitive, for example, \"Aa\" is not considered a palindrome here.\n",
    "\n",
    "Example 1:\n",
    "\n",
    "Input: s = \"abccccdd\"\n",
    "Output: 7\n",
    "Explanation: One longest palindrome that can be built is \"dccaccd\", whose length is 7.\n",
    "Example 2:\n",
    "\n",
    "Input: s = \"a\"\n",
    "Output: 1\n",
    "Explanation: The longest palindrome that can be built is \"a\", whose length is 1.\n"
   ]
  },
  {
   "cell_type": "code",
   "execution_count": 11,
   "metadata": {},
   "outputs": [],
   "source": [
    "class Solution:\n",
    "    def longestPalindrome(self, s: str) -> int:\n",
    "        s_dic={}\n",
    "        for i in s:\n",
    "            if i in s_dic:\n",
    "                s_dic[i]+=1\n",
    "            else:\n",
    "                s_dic[i]=1\n",
    "        print(s_dic)\n",
    "        count=0\n",
    "        odd=False\n",
    "        for key,value in s_dic.items():\n",
    "            if not value%2:\n",
    "                count+=value\n",
    "            else:\n",
    "                count+=value-1\n",
    "                odd=True\n",
    "        if odd:\n",
    "            return count+1\n",
    "        else:\n",
    "            return count\n",
    "        "
   ]
  },
  {
   "cell_type": "code",
   "execution_count": 12,
   "metadata": {},
   "outputs": [
    {
     "name": "stdout",
     "output_type": "stream",
     "text": [
      "{'a': 1, 'b': 1, 'c': 4, 'd': 2}\n",
      "Test0 Pass\n",
      "{'a': 1}\n",
      "Test1 Pass\n",
      "{'c': 25, 'i': 53, 'v': 22, 'l': 41, 'w': 23, 'a': 87, 'r': 67, 't': 106, 'e': 142, 's': 40, 'n': 61, 'g': 23, 'h': 74, 'p': 16, 'o': 78, 'y': 8, 'd': 52, 'u': 17, 'W': 2, 'q': 1, 'm': 13, 'b': 11, 'f': 26, 'z': 1, 'I': 3, 'B': 1, 'T': 2, 'k': 3, 'G': 1}\n",
      "Test2 Pass\n"
     ]
    }
   ],
   "source": [
    "test_case=[\"abccccdd\",\"a\",\"civilwartestingwhetherthatnaptionoranynartionsoconceivedandsodedicatedcanlongendureWeareqmetonagreatbattlefiemldoftzhatwarWehavecometodedicpateaportionofthatfieldasafinalrestingplaceforthosewhoheregavetheirlivesthatthatnationmightliveItisaltogetherfangandproperthatweshoulddothisButinalargersensewecannotdedicatewecannotconsecratewecannothallowthisgroundThebravelmenlivinganddeadwhostruggledherehaveconsecrateditfaraboveourpoorponwertoaddordetractTgheworldadswfilllittlenotlenorlongrememberwhatwesayherebutitcanneverforgetwhattheydidhereItisforusthelivingrathertobededicatedheretotheulnfinishedworkwhichtheywhofoughtherehavethusfarsonoblyadvancedItisratherforustobeherededicatedtothegreattdafskremainingbeforeusthatfromthesehonoreddeadwetakeincreaseddevotiontothatcauseforwhichtheygavethelastpfullmeasureofdevotionthatweherehighlyresolvethatthesedeadshallnothavediedinvainthatthisnationunsderGodshallhaveanewbirthoffreedomandthatgovernmentofthepeoplebythepeopleforthepeopleshallnotperishfromtheearth\"]\n",
    "ans=[7,1,983]\n",
    "count=0\n",
    "for test,value in zip(test_case,ans):\n",
    "    res=Solution().longestPalindrome(test)\n",
    "    if res==value:\n",
    "        print(f\"Test{count} Pass\")\n",
    "    else:\n",
    "        print(f\"Test{count} Fail, out ={res},ans={value}\")\n",
    "    count+=1"
   ]
  }
 ],
 "metadata": {
  "kernelspec": {
   "display_name": "Python 3",
   "language": "python",
   "name": "python3"
  },
  "language_info": {
   "codemirror_mode": {
    "name": "ipython",
    "version": 3
   },
   "file_extension": ".py",
   "mimetype": "text/x-python",
   "name": "python",
   "nbconvert_exporter": "python",
   "pygments_lexer": "ipython3",
   "version": "3.10.6"
  },
  "orig_nbformat": 4,
  "vscode": {
   "interpreter": {
    "hash": "916dbcbb3f70747c44a77c7bcd40155683ae19c65e1c03b4aa3499c5328201f1"
   }
  }
 },
 "nbformat": 4,
 "nbformat_minor": 2
}
