{
 "cells": [
  {
   "attachments": {},
   "cell_type": "markdown",
   "metadata": {},
   "source": [
    "# 28. Find the Index of the First Occurrence in a String\n",
    "Given two strings needle and haystack, return the index of the first occurrence of needle in haystack, or -1 if needle is not part of haystack.  \n",
    "Example 1:  \n",
    "\n",
    "Input: haystack = \"sadbutsad\", needle = \"sad\"  \n",
    "Output: 0  \n",
    "Explanation: \"sad\" occurs at index 0 and 6.  \n",
    "The first occurrence is at index 0, so we return 0.  \n",
    "Example 2:  \n",
    "\n",
    "Input: haystack = \"leetcode\", needle = \"leeto\"  \n",
    "Output: -1  \n",
    "Explanation: \"leeto\" did not occur in \"leetcode\", so we return -1.  \n",
    " \n",
    "\n"
   ]
  },
  {
   "cell_type": "code",
   "execution_count": 17,
   "metadata": {},
   "outputs": [
    {
     "name": "stdout",
     "output_type": "stream",
     "text": [
      "test 0 pass\n",
      "test 1 pass\n",
      "test 2 pass\n",
      "test 3 pass\n"
     ]
    }
   ],
   "source": [
    "class Solution:\n",
    "    def strStr(self, haystack: str, needle: str) -> int:\n",
    "        for i in range(len(haystack)):\n",
    "            temp=haystack[i:i+len(needle)]\n",
    "            if temp==needle:\n",
    "                return i\n",
    "        return -1\n",
    "\n",
    "\n",
    "test=[['sadbutsad','sad'],['leetcode','leeto'],['a','a'],[\"mississippi\",\"issip\"]]\n",
    "ans=[0,-1,0,4]\n",
    "count=0\n",
    "for test,ans in zip(test,ans):\n",
    "    out=Solution().strStr(test[0],test[1])\n",
    "    if ans ==out:\n",
    "        print(f\"test {count} pass\")\n",
    "    else:\n",
    "        print(f\"test {count} fail, output = {out}\")\n",
    "\n",
    "    count+=1\n"
   ]
  }
 ],
 "metadata": {
  "kernelspec": {
   "display_name": "Python 3",
   "language": "python",
   "name": "python3"
  },
  "language_info": {
   "codemirror_mode": {
    "name": "ipython",
    "version": 3
   },
   "file_extension": ".py",
   "mimetype": "text/x-python",
   "name": "python",
   "nbconvert_exporter": "python",
   "pygments_lexer": "ipython3",
   "version": "3.10.6"
  },
  "orig_nbformat": 4,
  "vscode": {
   "interpreter": {
    "hash": "916dbcbb3f70747c44a77c7bcd40155683ae19c65e1c03b4aa3499c5328201f1"
   }
  }
 },
 "nbformat": 4,
 "nbformat_minor": 2
}
