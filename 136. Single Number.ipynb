{
 "cells": [
  {
   "attachments": {},
   "cell_type": "markdown",
   "metadata": {},
   "source": [
    "136. Single Number\n",
    "Given a non-empty array of integers nums, every element appears twice except for one. Find that single one.\n",
    "\n",
    "You must implement a solution with a linear runtime complexity and use only constant extra space.\n",
    "Example 1:  \n",
    "\n",
    "Input: nums = [2,2,1]  \n",
    "Output: 1  \n",
    "Example 2:  \n",
    "\n",
    "Input: nums = [4,1,2,1,2]  \n",
    "Output: 4  \n",
    "Example 3:  \n",
    "\n",
    "Input: nums = [1]  \n",
    "Output: 1  "
   ]
  },
  {
   "cell_type": "code",
   "execution_count": 1,
   "metadata": {},
   "outputs": [],
   "source": [
    "from typing import List\n",
    "import testcode\n",
    "\n",
    "example=[[2,2,1],[4,1,2,1,2],[1]]\n",
    "ans=[1,4,1]"
   ]
  },
  {
   "cell_type": "code",
   "execution_count": 3,
   "metadata": {},
   "outputs": [
    {
     "name": "stderr",
     "output_type": "stream",
     "text": [
      "100%|██████████| 3/3 [00:00<00:00, 16.77it/s]"
     ]
    },
    {
     "name": "stdout",
     "output_type": "stream",
     "text": [
      "Test NO.0 Pass, 執行時間: 0.05503368377685547\n",
      "Test NO.1 Pass, 執行時間: 0.11688804626464844\n",
      "Test NO.2 Pass, 執行時間: 0.17992806434631348\n"
     ]
    },
    {
     "name": "stderr",
     "output_type": "stream",
     "text": [
      "\n"
     ]
    }
   ],
   "source": [
    "class Solution:\n",
    "    def singleNumber(self, nums: List[int]) -> int:\n",
    "        for i in set(nums):\n",
    "            if nums.count(i)!=2:\n",
    "                return i\n",
    "\n",
    "\n",
    "testcode.testunit(example,ans,Solution().singleNumber)\n",
    "    "
   ]
  }
 ],
 "metadata": {
  "kernelspec": {
   "display_name": "base",
   "language": "python",
   "name": "python3"
  },
  "language_info": {
   "codemirror_mode": {
    "name": "ipython",
    "version": 3
   },
   "file_extension": ".py",
   "mimetype": "text/x-python",
   "name": "python",
   "nbconvert_exporter": "python",
   "pygments_lexer": "ipython3",
   "version": "3.9.13"
  },
  "orig_nbformat": 4,
  "vscode": {
   "interpreter": {
    "hash": "ad2bdc8ecc057115af97d19610ffacc2b4e99fae6737bb82f5d7fb13d2f2c186"
   }
  }
 },
 "nbformat": 4,
 "nbformat_minor": 2
}
