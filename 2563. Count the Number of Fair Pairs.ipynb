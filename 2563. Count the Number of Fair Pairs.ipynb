{
 "cells": [
  {
   "attachments": {},
   "cell_type": "markdown",
   "metadata": {},
   "source": [
    "# 2563. Count the Number of Fair Pairs\n",
    "Given a 0-indexed integer array nums of size n and two integers lower and upper, return the number of fair pairs.\n",
    "\n",
    "A pair (i, j) is fair if:\n",
    "\n",
    "0 <= i < j < n, and\n",
    "lower <= nums[i] + nums[j] <= upper  \n",
    "Example 1:  \n",
    "\n",
    "Input: nums = [0,1,7,4,4,5], lower = 3, upper = 6  \n",
    "Output: 6  \n",
    "Explanation: There are 6 fair pairs: (0,3), (0,4), (0,5), (1,3), (1,4), and (1,5).  \n",
    "Example 2:  \n",
    "\n",
    "Input: nums = [1,7,9,2,5], lower = 11, upper = 11  \n",
    "Output: 1  \n",
    "Explanation: There is a single fair pair: (2,3).  "
   ]
  },
  {
   "cell_type": "code",
   "execution_count": null,
   "metadata": {},
   "outputs": [],
   "source": [
    "import testcode"
   ]
  },
  {
   "cell_type": "code",
   "execution_count": null,
   "metadata": {},
   "outputs": [],
   "source": [
    "class Solution:\n",
    "    def countFairPairs(self, nums: List[int], lower: int, upper: int) -> int:\n",
    "\n",
    "\n",
    "\n",
    "\n",
    "\n",
    "\n",
    "testcode.testunit_two_para\n",
    "\n",
    "\n",
    "\n"
   ]
  }
 ],
 "metadata": {
  "kernelspec": {
   "display_name": "base",
   "language": "python",
   "name": "python3"
  },
  "language_info": {
   "name": "python",
   "version": "3.9.13"
  },
  "orig_nbformat": 4,
  "vscode": {
   "interpreter": {
    "hash": "ad2bdc8ecc057115af97d19610ffacc2b4e99fae6737bb82f5d7fb13d2f2c186"
   }
  }
 },
 "nbformat": 4,
 "nbformat_minor": 2
}
