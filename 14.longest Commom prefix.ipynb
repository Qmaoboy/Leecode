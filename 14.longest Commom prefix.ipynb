{
 "cells": [
  {
   "cell_type": "markdown",
   "metadata": {},
   "source": []
  },
  {
   "cell_type": "code",
   "execution_count": 1,
   "metadata": {},
   "outputs": [
    {
     "name": "stdout",
     "output_type": "stream",
     "text": [
      "Test:_0_Pass\n",
      "Test:_1_Pass\n",
      "Test:_2_Pass\n",
      "Test:_3_Pass\n",
      "Test:_4_Pass\n",
      "Test:_5_Pass\n",
      "Test:_6_Pass\n",
      "Test:_7_Pass\n"
     ]
    }
   ],
   "source": [
    "class Solution():\n",
    "    def main(self,data):\n",
    "        if len(data) < 2:\n",
    "            return \"\"\n",
    "        else:\n",
    "            final =[i for i in data[0]]\n",
    "            for idx in range(1,len(data)):\n",
    "                if final==[]:\n",
    "                    break\n",
    "                final =self.compare(final,[i for i in data[idx]])\n",
    "        symbo =\"\"\n",
    "        final =symbo.join(final)\n",
    "        return final\n",
    "    def compare(self,d1,d2):\n",
    "        j=0\n",
    "        for k in range(len(d2)):\n",
    "            if d1[j]==d2[k]:\n",
    "                j +=1\n",
    "                if j ==len(d1):\n",
    "                    return d1\n",
    "            else:\n",
    "                break\n",
    "        return d1[:j]\n",
    "data=[[\"dogcar\",\"racecar\",\"car\"],[\"flower\",\"flow\",\"flight\"],[\"cir\",\"car\"],[\"\",\"b\"],['axx','xx','xxa'],[],[\"c\",\"acc\",\"ccccc\"],[\"carrrrr\",\"carrrllskdlskd\"]]\n",
    "    \n",
    "result =[\"\",\"fl\",\"c\",\"\",\"\",\"\",\"\",\"carrr\"]\n",
    "\n",
    "def unit_test_solution(data,result):\n",
    "    if len(data)!=len(result):\n",
    "        return \"data & result Dimension error\"\n",
    "    for i in range(len(data)):\n",
    "        ss=Solution()\n",
    "        if result[i]==ss.main(data[i]):\n",
    "            print(\"Test:_\"+str(i)+\"_Pass\")\n",
    "        else:\n",
    "            print(\"Test:_\"+str(i)+\"_Fail\")\n",
    "\n",
    "    \n",
    "unit_test_solution(data,result)"
   ]
  }
 ],
 "metadata": {
  "kernelspec": {
   "display_name": "Python 3",
   "language": "python",
   "name": "python3"
  },
  "language_info": {
   "codemirror_mode": {
    "name": "ipython",
    "version": 3
   },
   "file_extension": ".py",
   "mimetype": "text/x-python",
   "name": "python",
   "nbconvert_exporter": "python",
   "pygments_lexer": "ipython3",
   "version": "3.11.1 (tags/v3.11.1:a7a450f, Dec  6 2022, 19:58:39) [MSC v.1934 64 bit (AMD64)]"
  },
  "orig_nbformat": 4,
  "vscode": {
   "interpreter": {
    "hash": "368d14e910e169b6fd31268dc3391d033f0490bff72fccdc9d1ff1c32ee387fa"
   }
  }
 },
 "nbformat": 4,
 "nbformat_minor": 2
}
