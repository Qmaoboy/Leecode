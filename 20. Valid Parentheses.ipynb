{
 "cells": [
  {
   "cell_type": "code",
   "execution_count": 1,
   "metadata": {},
   "outputs": [
    {
     "name": "stdout",
     "output_type": "stream",
     "text": [
      "Test:_0_Pass\n",
      "Test:_1_Pass\n",
      "Test:_2_Pass\n",
      "Test:_3_Pass\n",
      "Test:_4_Pass\n",
      "Test:_5_Pass\n"
     ]
    }
   ],
   "source": [
    "class Solution:\n",
    "    def isValid(self, s: str) -> bool:\n",
    "        label =[\"(\",\")\",\"[\",\"]\",\"{\",\"}\"]\n",
    "        k = [x for x in s for y in label if x==y]\n",
    "        if int(len(k))%2!=0:\n",
    "            return False\n",
    "        stack=[]\n",
    "        for i in range(len(s)):\n",
    "            if s[i]==\"(\" or s[i]==\"[\" or s[i]==\"{\":\n",
    "               stack.append(s[i])\n",
    "            elif s[i]==\")\":\n",
    "                if stack==[]:\n",
    "                    return False    \n",
    "                elif stack.pop()!=\"(\":\n",
    "                    return False\n",
    "            elif s[i]==\"]\":\n",
    "                if stack==[]:\n",
    "                    return False    \n",
    "                elif stack.pop()!=\"[\":\n",
    "                    return False\n",
    "            elif s[i]==\"}\":\n",
    "                if stack==[]:\n",
    "                    return False    \n",
    "                elif stack.pop()!=\"{\":\n",
    "                    return False\n",
    "        if stack==[]:\n",
    "            return True\n",
    "        else:\n",
    "            return False\n",
    "\n",
    "data=[[\"()\"],[\"()[]{}\"],[\"(]\"],[\"){\"],[\"{sdsdljkflksjdf}\"],[\"()(}{}{()()[][][][()(\"]]\n",
    "result =[True,True,False,False,True,False]\n",
    "\n",
    "def unit_test_solution(data,result):\n",
    "    for i in range(len(data)):\n",
    "        ss=Solution()\n",
    "        if result[i]==ss.main(data[i]):\n",
    "            print(\"Test:_\"+str(i)+\"_Pass\")\n",
    "        else:\n",
    "            print(\"Test:_\"+str(i)+\"_Fail\")\n",
    "\n",
    "unit_test_solution(data,result)"
   ]
  }
 ],
 "metadata": {
  "kernelspec": {
   "display_name": "Python 3",
   "language": "python",
   "name": "python3"
  },
  "language_info": {
   "codemirror_mode": {
    "name": "ipython",
    "version": 3
   },
   "file_extension": ".py",
   "mimetype": "text/x-python",
   "name": "python",
   "nbconvert_exporter": "python",
   "pygments_lexer": "ipython3",
   "version": "3.11.0"
  },
  "orig_nbformat": 4,
  "vscode": {
   "interpreter": {
    "hash": "ebfc0a8d552866b0d59eba665220a57de3bc06f3ac643b8bef38dd8f66781fdd"
   }
  }
 },
 "nbformat": 4,
 "nbformat_minor": 2
}
