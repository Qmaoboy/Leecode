{
 "cells": [
  {
   "cell_type": "code",
   "execution_count": 1,
   "metadata": {},
   "outputs": [
    {
     "name": "stdout",
     "output_type": "stream",
     "text": [
      "Test:_0_Pass\n",
      "Test:_1_Pass\n",
      "Test:_2_Pass\n",
      "Test:_3_Pass\n",
      "Test:_4_Pass\n",
      "Test:_5_Pass\n"
     ]
    }
   ],
   "source": [
    "class Solution:\n",
    "    def main(self, s: str) -> bool:\n",
    "        s =[i for i in s[0]]\n",
    "        label =[\"(\",\")\",\"[\",\"]\",\"{\",\"}\"]\n",
    "        k = [x for x in s for y in label if x==y]\n",
    "        if int(len(k))%2!=0:\n",
    "            return False\n",
    "        stack=[]\n",
    "        for i in range(len(s)):\n",
    "            if s[i]==\"(\" or s[i]==\"[\" or s[i]==\"{\":\n",
    "               stack.append(s[i])\n",
    "            elif s[i]==\")\":\n",
    "                if stack==[]:\n",
    "                    return False    \n",
    "                elif stack.pop()!=\"(\":\n",
    "                    return False\n",
    "            elif s[i]==\"]\":\n",
    "                if stack==[]:\n",
    "                    return False    \n",
    "                elif stack.pop()!=\"[\":\n",
    "                    return False\n",
    "            elif s[i]==\"}\":\n",
    "                if stack==[]:\n",
    "                    return False    \n",
    "                elif stack.pop()!=\"{\":\n",
    "                    return False\n",
    "        if stack==[]:\n",
    "            return True\n",
    "        else:\n",
    "            return False\n",
    "\n",
    "data=[[\"()\"],[\"()[]{}\"],[\"(]\"],[\"){\"],[\"{sdsdljkflksjdf}\"],[\"()(}{}{()()[][][][()(\"]]\n",
    "result =[True,True,False,False,True,False]\n",
    "\n",
    "def unit_test_solution(data,result):\n",
    "    for i in range(len(data)):\n",
    "        ss=Solution()\n",
    "        if result[i]==ss.main(data[i]):\n",
    "            print(\"Test:_\"+str(i)+\"_Pass\")\n",
    "        else:\n",
    "            print(\"Test:_\"+str(i)+\"_Fail\")\n",
    "\n",
    "unit_test_solution(data,result)"
   ]
  }
 ],
 "metadata": {
  "kernelspec": {
   "display_name": "Python 3",
   "language": "python",
   "name": "python3"
  },
  "language_info": {
   "codemirror_mode": {
    "name": "ipython",
    "version": 3
   },
   "file_extension": ".py",
   "mimetype": "text/x-python",
   "name": "python",
   "nbconvert_exporter": "python",
   "pygments_lexer": "ipython3",
   "version": "3.11.1 (tags/v3.11.1:a7a450f, Dec  6 2022, 19:58:39) [MSC v.1934 64 bit (AMD64)]"
  },
  "orig_nbformat": 4,
  "vscode": {
   "interpreter": {
    "hash": "368d14e910e169b6fd31268dc3391d033f0490bff72fccdc9d1ff1c32ee387fa"
   }
  }
 },
 "nbformat": 4,
 "nbformat_minor": 2
}
