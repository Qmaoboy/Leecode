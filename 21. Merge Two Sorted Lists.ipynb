{
 "cells": [
  {
   "attachments": {},
   "cell_type": "markdown",
   "metadata": {},
   "source": [
    "# 21. Merge Two Sorted Lists\n",
    "You are given the heads of two sorted linked lists list1 and list2.\n",
    "\n",
    "Merge the two lists in a one sorted list. The list should be made by splicing together the nodes of the first two lists.\n",
    "\n",
    "Return the head of the merged linked list.\n",
    "\n",
    "nput: list1 = [1,2,4], list2 = [1,3,4]\n",
    "Output: [1,1,2,3,4,4]\n",
    "Example 2:\n",
    "\n",
    "Input: list1 = [], list2 = []\n",
    "Output: []\n",
    "Example 3:\n",
    "\n",
    "Input: list1 = [], list2 = [0]\n",
    "Output: [0]\n",
    "\n",
    "Constraints:\n",
    "\n",
    "The number of nodes in both lists is in the range [0, 50].\n",
    "-100 <= Node.val <= 100\n",
    "Both list1 and list2 are sorted in non-decreasing order."
   ]
  },
  {
   "cell_type": "code",
   "execution_count": 1,
   "metadata": {},
   "outputs": [],
   "source": [
    "# Definition for singly-linked list.\n",
    "from typing import Optional\n",
    "class ListNode:\n",
    "    def __init__(self, val=0, next=None):\n",
    "        self.val = val\n",
    "        self.next = next\n",
    "\n",
    "class Solution:\n",
    "    def mergeTwoLists(self, list1: Optional[ListNode], list2: Optional[ListNode]) -> Optional[ListNode]:\n",
    "        outputlist =[]\n",
    "        if list1:\n",
    "            return list2\n",
    "        elif list2:\n",
    "            return list1\n",
    "        elif len(list1)<=len(list2):\n",
    "            main =list1\n",
    "            divide =list2\n",
    "        else:\n",
    "            main= list2\n",
    "            divide =list1\n",
    "        j =0\n",
    "        for i in range(len(main)):\n",
    "            if main[i].val <=divide[j].val:\n",
    "                main[i].next = divide[j]\n",
    "                outputlist.append(main[i])\n",
    "                outputlist.append(divide[j])\n",
    "            else:\n",
    "                divide[j].next =main[i]\n",
    "                outputlist.append(divide[j])\n",
    "                outputlist.append(main[i])   \n",
    "            j+=1\n",
    "\n",
    "\n",
    "            \n",
    "                \n",
    "\n",
    "                \n",
    "            \n",
    "                    \n",
    "\n"
   ]
  },
  {
   "cell_type": "code",
   "execution_count": 2,
   "metadata": {},
   "outputs": [],
   "source": [
    "# Definition for singly-linked list.\n",
    "class ListNode:\n",
    "    def __init__(self, val=0, next=None):\n",
    "        self.val = val\n",
    "        self.next = next\n",
    "class Solution:\n",
    "    def mergeTwoLists(self, list1: Optional[ListNode], list2: Optional[ListNode]) -> Optional[ListNode]:\n",
    "        if not list1:\n",
    "            return list2\n",
    "        elif not list2:\n",
    "            return list1\n",
    "        if list1.val<=list2.val:\n",
    "            top =list1\n",
    "            tar =list1\n",
    "        else:\n",
    "            top =list2\n",
    "            tar =list2\n",
    "        while(tar!=None):\n",
    "            if list1.next==None:\n",
    "                tar.next =list2\n",
    "            elif list2.next==None:\n",
    "                tar.next =list1\n",
    "        \n",
    "            if list1.val<=list2.val:\n",
    "                tar =list1.next\n",
    "                list1.next=list2\n",
    "                list1=tar\n",
    "            else:\n",
    "                tar =list2.next\n",
    "                list2.next=list1\n",
    "                list2=tar\n",
    "        return top\n"
   ]
  }
 ],
 "metadata": {
  "kernelspec": {
   "display_name": "Python 3",
   "language": "python",
   "name": "python3"
  },
  "language_info": {
   "codemirror_mode": {
    "name": "ipython",
    "version": 3
   },
   "file_extension": ".py",
   "mimetype": "text/x-python",
   "name": "python",
   "nbconvert_exporter": "python",
   "pygments_lexer": "ipython3",
   "version": "3.11.1 (tags/v3.11.1:a7a450f, Dec  6 2022, 19:58:39) [MSC v.1934 64 bit (AMD64)]"
  },
  "orig_nbformat": 4,
  "vscode": {
   "interpreter": {
    "hash": "368d14e910e169b6fd31268dc3391d033f0490bff72fccdc9d1ff1c32ee387fa"
   }
  }
 },
 "nbformat": 4,
 "nbformat_minor": 2
}
