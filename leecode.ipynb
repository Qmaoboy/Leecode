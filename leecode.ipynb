{
 "cells": [
  {
   "cell_type": "markdown",
   "metadata": {},
   "source": [
    "### 14. Longest Common Prefix\n",
    "Write a function to find the longest common prefix string amongst an array of strings.  \n",
    "\n",
    "If there is no common prefix, return an empty string \"\".  \n",
    "\n",
    "Example 1:\n",
    "Input: strs = [\"flower\",\"flow\",\"flight\"]  \n",
    "Output: \"fl\"  \n",
    "\n",
    "Example 2:\n",
    "\n",
    "Input: strs = [\"dog\",\"racecar\",\"car\"]  \n",
    "Output: \"\"  \n",
    "Explanation: There is no common prefix among the input stri  "
   ]
  },
  {
   "cell_type": "code",
   "execution_count": 78,
   "metadata": {},
   "outputs": [
    {
     "name": "stdout",
     "output_type": "stream",
     "text": [
      "Test:_0_Pass\n",
      "Test:_1_Pass\n",
      "Test:_2_Pass\n",
      "Test:_3_Pass\n",
      "Test:_4_Pass\n",
      "Test:_5_Pass\n",
      "Test:_6_Pass\n",
      "Test:_7_Pass\n"
     ]
    }
   ],
   "source": [
    "class Solution():\n",
    "    def main(self,data):\n",
    "        if len(data) < 2:\n",
    "            return \"\"\n",
    "        else:\n",
    "            final =[i for i in data[0]]\n",
    "            for idx in range(1,len(data)):\n",
    "                if final==[]:\n",
    "                    break\n",
    "                final =self.compare(final,[i for i in data[idx]])\n",
    "        symbo =\"\"\n",
    "        final =symbo.join(final)\n",
    "        return final\n",
    "    def compare(self,d1,d2):\n",
    "        j=0\n",
    "        for k in range(len(d2)):\n",
    "            if d1[j]==d2[k]:\n",
    "                j +=1\n",
    "                if j ==len(d1):\n",
    "                    return d1\n",
    "            else:\n",
    "                break\n",
    "        return d1[:j]\n",
    "data=[[\"dogcar\",\"racecar\",\"car\"],[\"flower\",\"flow\",\"flight\"],[\"cir\",\"car\"],[\"\",\"b\"],['axx','xx','xxa'],[],[\"c\",\"acc\",\"ccccc\"],[\"carrrrr\",\"carrrllskdlskd\"]]\n",
    "    \n",
    "result =[\"\",\"fl\",\"c\",\"\",\"\",\"\",\"\",\"carrr\"]\n",
    "\n",
    "def unit_test_solution(data,result):\n",
    "    if len(data)!=len(result):\n",
    "        return \"data & result Dimension error\"\n",
    "    for i in range(len(data)):\n",
    "        ss=Solution()\n",
    "        if result[i]==ss.main(data[i]):\n",
    "            print(\"Test:_\"+str(i)+\"_Pass\")\n",
    "        else:\n",
    "            print(\"Test:_\"+str(i)+\"_Fail\")\n",
    "\n",
    "    \n",
    "unit_test_solution(data,result)"
   ]
  },
  {
   "cell_type": "markdown",
   "metadata": {},
   "source": [
    "### 20. Valid Parentheses\n",
    "Given a string s containing just the characters '(', ')', '{', '}', '[' and ']', determine if the input string is valid.  \n",
    "\n",
    "An input string is valid if:  \n",
    "\n",
    "Open brackets must be closed by the same type of brackets.  \n",
    "Open brackets must be closed in the correct order.  \n",
    "Every close bracket has a corresponding open bracket of the same type.  \n",
    "Example 1:  \n",
    "\n",
    "Input: s = \"()\"  \n",
    "Output: true  \n",
    "Example 2:  \n",
    "\n",
    "Input: s = \"()[]{}\"  \n",
    "Output: true  \n",
    "Example 3:  \n",
    "\n",
    "Input: s = \"(]\"  \n",
    "Output: false  "
   ]
  },
  {
   "cell_type": "code",
   "execution_count": 85,
   "metadata": {},
   "outputs": [
    {
     "name": "stdout",
     "output_type": "stream",
     "text": [
      "Test:_0_Pass\n",
      "Test:_1_Pass\n",
      "Test:_2_Pass\n",
      "Test:_3_Pass\n",
      "Test:_4_Pass\n",
      "Test:_5_Pass\n"
     ]
    }
   ],
   "source": [
    "class Solution:\n",
    "    def main(self, s: str) -> bool:\n",
    "        s =[i for i in s[0]]\n",
    "        label =[\"(\",\")\",\"[\",\"]\",\"{\",\"}\"]\n",
    "        k = [x for x in s for y in label if x==y]\n",
    "        if int(len(k))%2!=0:\n",
    "            return False\n",
    "        stack=[]\n",
    "        for i in range(len(s)):\n",
    "            if s[i]==\"(\" or s[i]==\"[\" or s[i]==\"{\":\n",
    "               stack.append(s[i])\n",
    "            elif s[i]==\")\":\n",
    "                if stack==[]:\n",
    "                    return False    \n",
    "                elif stack.pop()!=\"(\":\n",
    "                    return False\n",
    "            elif s[i]==\"]\":\n",
    "                if stack==[]:\n",
    "                    return False    \n",
    "                elif stack.pop()!=\"[\":\n",
    "                    return False\n",
    "            elif s[i]==\"}\":\n",
    "                if stack==[]:\n",
    "                    return False    \n",
    "                elif stack.pop()!=\"{\":\n",
    "                    return False\n",
    "        if stack==[]:\n",
    "            return True\n",
    "        else:\n",
    "            return False\n",
    "\n",
    "data=[[\"()\"],[\"()[]{}\"],[\"(]\"],[\"){\"],[\"{sdsdljkflksjdf}\"],[\"()(}{}{()()[][][][()(\"]]\n",
    "result =[True,True,False,False,True,False]\n",
    "\n",
    "def unit_test_solution(data,result):\n",
    "    for i in range(len(data)):\n",
    "        ss=Solution()\n",
    "        if result[i]==ss.main(data[i]):\n",
    "            print(\"Test:_\"+str(i)+\"_Pass\")\n",
    "        else:\n",
    "            print(\"Test:_\"+str(i)+\"_Fail\")\n",
    "\n",
    "unit_test_solution(data,result)"
   ]
  },
  {
   "cell_type": "markdown",
   "metadata": {},
   "source": [
    "### 21. Merge Two Sorted Lists\n",
    "You are given the heads of two sorted linked lists list1 and list2.  \n",
    "\n",
    "Merge the two lists in a one sorted list. The list should be made by splicing together the nodes of the first two lists.  \n",
    "\n",
    "Return the head of the merged linked list.  \n",
    "Example 1:  \n",
    "![](picture/p1.png)\n",
    "\n",
    "Input: list1 = [1,2,4], list2 = [1,3,4]  \n",
    "Output: [1,1,2,3,4,4]  \n",
    "Example 2:  \n",
    "\n",
    "Input: list1 = [], list2 = []  \n",
    "Output: []  \n",
    "Example 3:  \n",
    "\n",
    "Input: list1 = [], list2 = [0]  \n",
    "Output: [0]  \n",
    "\n",
    "Constraints:  \n",
    "\n",
    "- The number of nodes in both lists is in the range [0, 50].  \n",
    "- -100 <= Node.val <= 100  \n",
    "- Both list1 and list2 are sorted in non-decreasing order.  "
   ]
  },
  {
   "cell_type": "code",
   "execution_count": 167,
   "metadata": {},
   "outputs": [
    {
     "ename": "NameError",
     "evalue": "name 'Optional' is not defined",
     "output_type": "error",
     "traceback": [
      "\u001b[1;31m---------------------------------------------------------------------------\u001b[0m",
      "\u001b[1;31mNameError\u001b[0m                                 Traceback (most recent call last)",
      "Cell \u001b[1;32mIn [167], line 8\u001b[0m\n\u001b[0;32m      4\u001b[0m         \u001b[39mself\u001b[39m\u001b[39m.\u001b[39mval \u001b[39m=\u001b[39m val\n\u001b[0;32m      5\u001b[0m         \u001b[39mself\u001b[39m\u001b[39m.\u001b[39mnext \u001b[39m=\u001b[39m \u001b[39mnext\u001b[39m\n\u001b[1;32m----> 8\u001b[0m \u001b[39mclass\u001b[39;49;00m \u001b[39mSolution\u001b[39;49;00m:\n\u001b[0;32m      9\u001b[0m     \u001b[39mdef\u001b[39;49;00m \u001b[39mmergeTwoLists\u001b[39;49m(\u001b[39mself\u001b[39;49m, list1: Optional[ListNode], list2: Optional[ListNode]) \u001b[39m-\u001b[39;49m\u001b[39m>\u001b[39;49m Optional[ListNode]:\n\u001b[0;32m     10\u001b[0m         \u001b[39mpass\u001b[39;49;00m\n",
      "Cell \u001b[1;32mIn [167], line 9\u001b[0m, in \u001b[0;36mSolution\u001b[1;34m()\u001b[0m\n\u001b[0;32m      8\u001b[0m \u001b[39mclass\u001b[39;00m \u001b[39mSolution\u001b[39;00m:\n\u001b[1;32m----> 9\u001b[0m     \u001b[39mdef\u001b[39;00m \u001b[39mmergeTwoLists\u001b[39m(\u001b[39mself\u001b[39m, list1: Optional[ListNode], list2: Optional[ListNode]) \u001b[39m-\u001b[39m\u001b[39m>\u001b[39m Optional[ListNode]:\n\u001b[0;32m     10\u001b[0m         \u001b[39mpass\u001b[39;00m\n",
      "\u001b[1;31mNameError\u001b[0m: name 'Optional' is not defined"
     ]
    }
   ],
   "source": [
    "# Definition for singly-linked list.\n",
    "class ListNode:\n",
    "    def __init__(self, val=0, next=None):\n",
    "        self.val = val\n",
    "        self.next = next\n",
    "\n",
    "\n",
    "class Solution:\n",
    "    def mergeTwoLists(self, list1: Optional[ListNode], list2: Optional[ListNode]) -> Optional[ListNode]:\n",
    "        pass\n",
    "            \n",
    "            \n",
    "       \n",
    "data1 = [1,2,3,4,5,6,7]\n",
    "data2 =[5,6,7,8,9,10]\n",
    "def construct(dd):\n",
    "    pp=[]\n",
    "    for i in range(len(dd)):\n",
    "        if i ==0:\n",
    "            pp.append(ListNode(dd[i],None))\n",
    "        else:\n",
    "            pp.append(ListNode(dd[i],pp[i-1]))\n",
    "    return pp[::-1]\n",
    "\n",
    "construct(data1[::-1])\n",
    "construct(data2[::-1])\n",
    "# print(data1[::-1])\n"
   ]
  },
  {
   "cell_type": "markdown",
   "metadata": {},
   "source": [
    "### 26. Remove Duplicates from Sorted Array\n",
    "Given an integer array nums sorted in non-decreasing order, remove the duplicates in-place such that each unique element appears only once. The relative order of the elements should be kept the same.\n",
    "\n",
    "Since it is impossible to change the length of the array in some languages, you must instead have the result be placed in the first part of the array nums. More formally, if there are k elements after removing the duplicates, then the first k elements of nums should hold the final result. It does not matter what you leave beyond the first k elements.\n",
    "\n",
    "Return k after placing the final result in the first k slots of nums.\n",
    "\n",
    "Do not allocate extra space for another array. You must do this by modifying the input array in-place with O(1) extra memory.\n",
    "\n",
    "Custom Judge:\n",
    "\n",
    "The judge will test your solution with the following code:  \n",
    "\n",
    "**int[] nums = [...]; // Input array  \n",
    "int[] expectedNums = [...]; // The expected answer with correct length  \n",
    "int k = removeDuplicates(nums); // Calls your implementation\n",
    "assert k == expectedNums.length;  \n",
    "for (int i = 0; i < k; i++) {\n",
    "    assert nums[i] == expectedNums[i];\n",
    "}**\n",
    "\n",
    "If all assertions pass, then your solution will be accepted."
   ]
  },
  {
   "cell_type": "code",
   "execution_count": 62,
   "metadata": {},
   "outputs": [
    {
     "ename": "SyntaxError",
     "evalue": "incomplete input (372670292.py, line 2)",
     "output_type": "error",
     "traceback": [
      "\u001b[1;36m  Cell \u001b[1;32mIn [62], line 2\u001b[1;36m\u001b[0m\n\u001b[1;33m    def removeDuplicates(self, nums: List[int]) -> int:\u001b[0m\n\u001b[1;37m                                                       ^\u001b[0m\n\u001b[1;31mSyntaxError\u001b[0m\u001b[1;31m:\u001b[0m incomplete input\n"
     ]
    }
   ],
   "source": [
    "class Solution:\n",
    "    def removeDuplicates(self, nums: List[int]) -> int:"
   ]
  }
 ],
 "metadata": {
  "kernelspec": {
   "display_name": "Python 3.11.0 64-bit",
   "language": "python",
   "name": "python3"
  },
  "language_info": {
   "codemirror_mode": {
    "name": "ipython",
    "version": 3
   },
   "file_extension": ".py",
   "mimetype": "text/x-python",
   "name": "python",
   "nbconvert_exporter": "python",
   "pygments_lexer": "ipython3",
   "version": "3.11.0"
  },
  "orig_nbformat": 4,
  "vscode": {
   "interpreter": {
    "hash": "ebfc0a8d552866b0d59eba665220a57de3bc06f3ac643b8bef38dd8f66781fdd"
   }
  }
 },
 "nbformat": 4,
 "nbformat_minor": 2
}
