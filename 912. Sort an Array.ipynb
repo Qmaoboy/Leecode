{
 "cells": [
  {
   "cell_type": "code",
   "execution_count": 2,
   "metadata": {},
   "outputs": [],
   "source": [
    "from typing import List"
   ]
  },
  {
   "cell_type": "code",
   "execution_count": 9,
   "metadata": {},
   "outputs": [
    {
     "name": "stdout",
     "output_type": "stream",
     "text": [
      "Test_1  pass\n",
      "Test_2  pass\n"
     ]
    }
   ],
   "source": [
    "class Solution:\n",
    "    def mergesort(self,left,right):\n",
    "        out=[0]*(len(left)+len(right))\n",
    "        i,j=0,0\n",
    "        index=0\n",
    "        while index<len(out):\n",
    "            if(i<len(left) and j<len(right)):\n",
    "                if left[i]<right[j]:\n",
    "                    out[index]=left[i]\n",
    "                    i+=1\n",
    "                    index+=1\n",
    "                else :\n",
    "                    out[index]=right[j]\n",
    "                    j+=1\n",
    "                    index+=1\n",
    "            else:\n",
    "                if i>=len(left):\n",
    "                    out[index]=right[j]\n",
    "                    j+=1\n",
    "                    index+=1\n",
    "                else:\n",
    "                    out[index]=left[i]\n",
    "                    i+=1\n",
    "                    index+=1\n",
    "        return out\n",
    "        \n",
    "    def sortArray(self, nums: List[int]) -> List[int]:\n",
    "        if len(nums)==1:\n",
    "            return nums\n",
    "        mid=len(nums)//2\n",
    "        leftarr=nums[:mid]\n",
    "        rightarr=nums[mid:]\n",
    "        return self.mergesort(self.sortArray(leftarr),self.sortArray(rightarr))\n",
    "\n"
   ]
  },
  {
   "cell_type": "code",
   "execution_count": 11,
   "metadata": {},
   "outputs": [],
   "source": [
    "from collections import defaultdict\n",
    "class Solution:\n",
    "\n",
    "    def sortArray(self, nums):\n",
    "        d=defaultdict(int)\n",
    "        l=len(nums)\n",
    "        minval=min(nums)\n",
    "        maxvalue=max(nums)\n",
    "        output=[0 for i in range(l)]\n",
    "        for i in nums:\n",
    "            d[i]+=1\n",
    "        k=0\n",
    "        for i in range(minval,maxvalue+1):\n",
    "            while(d[i]>0):\n",
    "                output[k]=i\n",
    "                d[i]-=1\n",
    "                k=k+1\n",
    "        return output\n"
   ]
  },
  {
   "cell_type": "code",
   "execution_count": 12,
   "metadata": {},
   "outputs": [
    {
     "name": "stdout",
     "output_type": "stream",
     "text": [
      "Test_1  pass\n",
      "Test_2  pass\n"
     ]
    }
   ],
   "source": [
    "import time\n",
    "testexmaple=[[5,2,3,1],[5,1,1,2,0,0]]\n",
    "ans =[[1,2,3,5],[0,0,1,1,2,5]]\n",
    "index=0\n",
    "for i, j in zip(testexmaple,ans):\n",
    "    t1=time.start()\n",
    "    solu=Solution().sortArray(i)\n",
    "    t2=time.end()\n",
    "    index+=1\n",
    "    if j ==solu:\n",
    "       print(f\"Test_{index}  pass\")\n",
    "    else:\n",
    "       print(f\"Test_{index}  Fail\")"
   ]
  }
 ],
 "metadata": {
  "kernelspec": {
   "display_name": "Python 3",
   "language": "python",
   "name": "python3"
  },
  "language_info": {
   "codemirror_mode": {
    "name": "ipython",
    "version": 3
   },
   "file_extension": ".py",
   "mimetype": "text/x-python",
   "name": "python",
   "nbconvert_exporter": "python",
   "pygments_lexer": "ipython3",
   "version": "3.10.6"
  },
  "orig_nbformat": 4,
  "vscode": {
   "interpreter": {
    "hash": "916dbcbb3f70747c44a77c7bcd40155683ae19c65e1c03b4aa3499c5328201f1"
   }
  }
 },
 "nbformat": 4,
 "nbformat_minor": 2
}
