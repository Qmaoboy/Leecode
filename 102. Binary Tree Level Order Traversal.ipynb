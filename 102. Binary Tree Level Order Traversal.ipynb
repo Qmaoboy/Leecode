{
 "cells": [
  {
   "attachments": {},
   "cell_type": "markdown",
   "metadata": {},
   "source": [
    "# 102. Binary Tree Level Order Traversal\n",
    "Given the root of a binary tree, return the level order traversal of its nodes' values. (i.e., from left to right, level by level).\n",
    "Input: root = [3,9,20,null,null,15,7]\n",
    "Output: [[3],[9,20],[15,7]]\n",
    "Example 2:\n",
    "\n",
    "Input: root = [1]\n",
    "Output: [[1]]\n",
    "Example 3:\n",
    "\n",
    "Input: root = []\n",
    "Output: []"
   ]
  },
  {
   "cell_type": "code",
   "execution_count": 14,
   "metadata": {},
   "outputs": [
    {
     "name": "stdout",
     "output_type": "stream",
     "text": [
      "[9, 20]\n"
     ]
    }
   ],
   "source": [
    "# Definition for a binary tree node.\n",
    "class TreeNode:\n",
    "    def __init__(self, val=0, left=None, right=None):\n",
    "        self.val = val\n",
    "        self.left = left\n",
    "        self.right = right\n",
    "from typing import Optional,List\n",
    "class Solution:\n",
    "    def levelOrder(self, root: Optional[TreeNode]) -> List[List[int]]:\n",
    "        if not root:  return []\n",
    "\n",
    "        res = {}\n",
    "        waitlist = [ { 'level': 0, 'node': root} ]\n",
    "\n",
    "        while len(waitlist) > 0:\n",
    "            cur = waitlist.pop()\n",
    "            node = cur['node']\n",
    "            \n",
    "            res.setdefault(cur['level'], [])\n",
    "            res[cur['level']].append(node.val)\n",
    "\n",
    "            if node.right:\n",
    "                waitlist.append({'level':cur['level']+1, 'node':node.right});\n",
    "            if node.left:\n",
    "                waitlist.append({'level':cur['level']+1, 'node':node.left});\n",
    "        print(res)\n",
    "        return [res[i] for i in res]"
   ]
  }
 ],
 "metadata": {
  "kernelspec": {
   "display_name": "base",
   "language": "python",
   "name": "python3"
  },
  "language_info": {
   "codemirror_mode": {
    "name": "ipython",
    "version": 3
   },
   "file_extension": ".py",
   "mimetype": "text/x-python",
   "name": "python",
   "nbconvert_exporter": "python",
   "pygments_lexer": "ipython3",
   "version": "3.9.13"
  },
  "orig_nbformat": 4
 },
 "nbformat": 4,
 "nbformat_minor": 2
}
