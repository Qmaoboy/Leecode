{
 "cells": [
  {
   "attachments": {},
   "cell_type": "markdown",
   "metadata": {},
   "source": [
    "# 35. Search Insert Position\n",
    "Given a sorted array of distinct integers and a target value, return the index if the target is found. If not, return the index where it would be if it were inserted in order.\n",
    "\n",
    "You must write an algorithm with O(log n) runtime complexity.\n",
    "\n",
    "Example 1:  \n",
    "\n",
    "Input: nums = [1,3,5,6], target = 5  \n",
    "Output: 2  \n",
    "Example 2:  \n",
    "\n",
    "Input: nums = [1,3,5,6], target = 2  \n",
    "Output: 1  \n",
    "Example 3:  \n",
    "\n",
    "Input: nums = [1,3,5,6], target = 7  \n",
    "Output: 4  \n",
    " "
   ]
  },
  {
   "cell_type": "code",
   "execution_count": null,
   "metadata": {},
   "outputs": [],
   "source": [
    "from typing import List"
   ]
  },
  {
   "cell_type": "code",
   "execution_count": null,
   "metadata": {},
   "outputs": [],
   "source": [
    "class Solution:\n",
    "    def searchInsert(self, nums: List[int], target: int) -> int:\n",
    "        if not nums:\n",
    "            return 0\n",
    "        if target in nums:\n",
    "            return nums.index(target)\n",
    "        if max(nums)<target:\n",
    "            return len(nums)\n",
    "        elif min(nums)>target:\n",
    "            return 0\n",
    "        else:\n",
    "            for i in range(len(nums)):\n",
    "                if nums[i]>target:\n",
    "                    return i\n",
    "                "
   ]
  }
 ],
 "metadata": {
  "language_info": {
   "name": "python"
  },
  "orig_nbformat": 4
 },
 "nbformat": 4,
 "nbformat_minor": 2
}
